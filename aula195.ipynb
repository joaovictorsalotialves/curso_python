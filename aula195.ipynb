{
 "cells": [
  {
   "cell_type": "markdown",
   "id": "860892b8",
   "metadata": {},
   "source": [
    "# Teste com Jupyter\n",
    "\n",
    "Essa linha Cria uma variável `a`"
   ]
  },
  {
   "cell_type": "code",
   "execution_count": null,
   "id": "17ac37b2",
   "metadata": {},
   "outputs": [],
   "source": [
    "a = 2\n",
    "a"
   ]
  },
  {
   "cell_type": "markdown",
   "id": "3ce45672",
   "metadata": {},
   "source": [
    "Essa linha tem o valor da variável `a` em dobro"
   ]
  },
  {
   "cell_type": "code",
   "execution_count": 12,
   "id": "4bee278b",
   "metadata": {},
   "outputs": [],
   "source": [
    "b = a * 2"
   ]
  },
  {
   "cell_type": "markdown",
   "id": "f337eb18",
   "metadata": {},
   "source": [
    "Essa linha mostra o valor de `a` + `b`"
   ]
  },
  {
   "cell_type": "code",
   "execution_count": 13,
   "id": "d89d1b72",
   "metadata": {},
   "outputs": [
    {
     "name": "stdout",
     "output_type": "stream",
     "text": [
      "6\n"
     ]
    }
   ],
   "source": [
    "print(a + b)"
   ]
  }
 ],
 "metadata": {
  "kernelspec": {
   "display_name": "Python 3 (ipykernel)",
   "language": "python",
   "name": "python3"
  },
  "language_info": {
   "codemirror_mode": {
    "name": "ipython",
    "version": 3
   },
   "file_extension": ".py",
   "mimetype": "text/x-python",
   "name": "python",
   "nbconvert_exporter": "python",
   "pygments_lexer": "ipython3",
   "version": "3.11.2"
  },
  "vscode": {
   "interpreter": {
    "hash": "eadd9dfc1e8ec720c3a9d2c40b99769c4cb5bcd2b9e8d7d69ce3de2a672366a1"
   }
  }
 },
 "nbformat": 4,
 "nbformat_minor": 5
}
